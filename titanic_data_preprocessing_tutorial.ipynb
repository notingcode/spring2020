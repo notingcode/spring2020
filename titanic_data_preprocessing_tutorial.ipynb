{
  "nbformat": 4,
  "nbformat_minor": 0,
  "metadata": {
    "colab": {
      "name": "titanic_data_preprocessing_tutorial.ipynb",
      "provenance": [],
      "collapsed_sections": [
        "-urOk0dz-Ny_",
        "GSiRAw_rJ9Eg",
        "cGD_QKV8VBB8",
        "qY_lz8J6U4O9",
        "n-TcGuwsCvzj",
        "734FiuuqCQGy"
      ],
      "include_colab_link": true
    },
    "kernelspec": {
      "name": "python3",
      "display_name": "Python 3"
    }
  },
  "cells": [
    {
      "cell_type": "markdown",
      "metadata": {
        "id": "view-in-github",
        "colab_type": "text"
      },
      "source": [
        "<a href=\"https://colab.research.google.com/github/notingcode/spring2020/blob/master/titanic_data_preprocessing_tutorial.ipynb\" target=\"_parent\"><img src=\"https://colab.research.google.com/assets/colab-badge.svg\" alt=\"Open In Colab\"/></a>"
      ]
    },
    {
      "cell_type": "markdown",
      "metadata": {
        "id": "4Gl6NBZm9mkZ",
        "colab_type": "text"
      },
      "source": [
        "#Analyzing and Preprocessing Data with Matplotlib, Pandas, and NumPy\n",
        "참고자료\n",
        "1. [Pandas 기초 정리](https://doorbw.tistory.com/172)\n",
        "2. [Matplotlib 기초 정리](https://doorbw.tistory.com/173)\n",
        "3. [Hands-on 시리즈 저자가 만든 Matplotlib 튜토리얼](https://colab.research.google.com/drive/1lo8pAAo5GiUk4BZvSEnnkET6hTjP6eLR)\n",
        "**드라이브에 사본을 만드신 후 튜토리얼과 과제 진행해주시기 바랍니다.**"
      ]
    },
    {
      "cell_type": "markdown",
      "metadata": {
        "id": "-urOk0dz-Ny_",
        "colab_type": "text"
      },
      "source": [
        "##Upload Kaggle JSON and Download Data\n",
        "만약 Kaggle 계정이 있다면 Kaggle API를 사용하는걸 추천합니다.\\\n",
        "만약 사용법을 전혀 모르신다면 [간략한 Kaggle 튜토리얼](https://colab.research.google.com/drive/1w-dlTXKtNYihnm7GlfH20fk88efapRBV)을 통해 사용법을 간략하게 익히시고 오시면 되겠습니다."
      ]
    },
    {
      "cell_type": "markdown",
      "metadata": {
        "id": "gph_OprMMsSU",
        "colab_type": "text"
      },
      "source": [
        "\n",
        "사용하고 싶지 않으시면 [Titanic: Machine Learning from Disaster](https://www.kaggle.com/c/titanic/data)에서 train.csv, test.csv을 다운받으시고 Colab에 두 파일을 같이 올리시면 됩니다. gender_submission.csv 파일의 경우 제출파일의 양식을 보여주는 것 뿐입니다."
      ]
    },
    {
      "cell_type": "code",
      "metadata": {
        "id": "N1jS2H9SXkQ8",
        "colab_type": "code",
        "colab": {}
      },
      "source": [
        "from google.colab import files\n",
        "files.upload()"
      ],
      "execution_count": 0,
      "outputs": []
    },
    {
      "cell_type": "code",
      "metadata": {
        "id": "n4b1ZljYQof4",
        "colab_type": "code",
        "colab": {}
      },
      "source": [
        "# !mkdir ~/.kaggle\n",
        "# !cp kaggle.json ~/.kaggle/\n",
        "# !chmod 600 ~/.kaggle/kaggle.json"
      ],
      "execution_count": 0,
      "outputs": []
    },
    {
      "cell_type": "code",
      "metadata": {
        "id": "EC3WJ4zbWd_0",
        "colab_type": "code",
        "colab": {}
      },
      "source": [
        "# !kaggle competitions list"
      ],
      "execution_count": 0,
      "outputs": []
    },
    {
      "cell_type": "code",
      "metadata": {
        "id": "YextPWonW05d",
        "colab_type": "code",
        "colab": {}
      },
      "source": [
        "# !kaggle competitions download -c titanic"
      ],
      "execution_count": 0,
      "outputs": []
    },
    {
      "cell_type": "markdown",
      "metadata": {
        "id": "GSiRAw_rJ9Eg",
        "colab_type": "text"
      },
      "source": [
        "##Load and Manipulate Data with Pandas\n",
        "Pandas로 다운받은 데이터 다뤄보기"
      ]
    },
    {
      "cell_type": "code",
      "metadata": {
        "id": "Kg9Nj3EbumA6",
        "colab_type": "code",
        "colab": {}
      },
      "source": [
        "import pandas as pd # pandas 라이브러리를 pd 라는 이름으로 부릅니다.\n",
        "import numpy as np # numpy 라이브러리를 np 라는 이름으로 부릅니다."
      ],
      "execution_count": 0,
      "outputs": []
    },
    {
      "cell_type": "code",
      "metadata": {
        "id": "kDTeGrV2wKqz",
        "colab_type": "code",
        "colab": {}
      },
      "source": [
        "# pd.read_csv method를 이용하여 csv(comma-separated values)파일을 pandas dataframe으로 부릅니다.\n",
        "# parameter로 파일의 이름을 넣으면 됩니다.\n",
        "train_data = pd.read_csv('train.csv')\n",
        "test_data = pd.read_csv('test.csv')"
      ],
      "execution_count": 0,
      "outputs": []
    },
    {
      "cell_type": "code",
      "metadata": {
        "id": "v9t5I_40wXpR",
        "colab_type": "code",
        "colab": {}
      },
      "source": [
        "train_data.head(10)"
      ],
      "execution_count": 0,
      "outputs": []
    },
    {
      "cell_type": "markdown",
      "metadata": {
        "id": "4byCNQYPSerS",
        "colab_type": "text"
      },
      "source": [
        "**mini-exercise**: Pandas를 사용하여 생존자의 나이 column만을 추출해서 surv_age에 저장하세요"
      ]
    },
    {
      "cell_type": "code",
      "metadata": {
        "id": "EaYN6ECOU8y0",
        "colab_type": "code",
        "colab": {}
      },
      "source": [
        "# hint\n",
        "# 2D array를 index와 column으로 이름을 지어준 dataframe으로 만듬\n",
        "df = pd.DataFrame([[1, 2], [4, 5], [7, 8]],\n",
        "                  index=['cobra', 'viper', 'sidewinder'],\n",
        "                  columns=['max_speed', 'shield'])\n",
        "\n",
        "df"
      ],
      "execution_count": 0,
      "outputs": []
    },
    {
      "cell_type": "code",
      "metadata": {
        "id": "mqnqXP0DVpmS",
        "colab_type": "code",
        "colab": {}
      },
      "source": [
        "# 1D array를 index로 구분한 series로 만듬\n",
        "tof = pd.Series([False, False, True],\n",
        "                      index=['cobra', 'viper', 'sidewinder'],\n",
        "                      dtype=bool)\n",
        "\n",
        "tof"
      ],
      "execution_count": 0,
      "outputs": []
    },
    {
      "cell_type": "code",
      "metadata": {
        "id": "2gZfAu92g2NH",
        "colab_type": "code",
        "colab": {}
      },
      "source": [
        "df[tof]"
      ],
      "execution_count": 0,
      "outputs": []
    },
    {
      "cell_type": "code",
      "metadata": {
        "id": "7JMR3nuKVRcT",
        "colab_type": "code",
        "colab": {}
      },
      "source": [
        "df['max_speed']"
      ],
      "execution_count": 0,
      "outputs": []
    },
    {
      "cell_type": "code",
      "metadata": {
        "id": "XzWofZ6wUUqB",
        "colab_type": "code",
        "colab": {}
      },
      "source": [
        "train_data['Survived'] == 1\n",
        "# end of hint"
      ],
      "execution_count": 0,
      "outputs": []
    },
    {
      "cell_type": "code",
      "metadata": {
        "id": "CUbKlWpRUV17",
        "colab_type": "code",
        "colab": {}
      },
      "source": [
        "# try here"
      ],
      "execution_count": 0,
      "outputs": []
    },
    {
      "cell_type": "markdown",
      "metadata": {
        "id": "cGD_QKV8VBB8",
        "colab_type": "text"
      },
      "source": [
        "##Analyze Data\n",
        "Pandas외에 추가로 Matplotlib과 Seaborn이라는 Python 라이브러리를 통해 데이터를 시각화하는 작업을 해볼겁니다\\\n",
        "**만약 전처리로 바로 넘어가고 싶으시면 넘어가셔도 됩니다**"
      ]
    },
    {
      "cell_type": "markdown",
      "metadata": {
        "id": "bGl-hFw96085",
        "colab_type": "text"
      },
      "source": [
        "Feature(Variable)|Definition|Key\n",
        ":-|:-|:-\n",
        "survival|생존|0 = No, 1 = Yes\n",
        "pclass|티켓 등급|1 = 1st, 2 = 2nd, 3 = 3rd\n",
        "sex|성별|\n",
        "Age|나이|\n",
        "sibsp|함께 탑승중인 형제자매와 배우자#|\n",
        "parch|함께 탑승중인 부모와 자녀#|\n",
        "ticket|티켓 번호|\n",
        "fare|탑승 요금|\n",
        "cabin|객실 번호|\n",
        "embarked|탑승한 항구|C = Cherbourg, Q = Queenstown, S = Southampton"
      ]
    },
    {
      "cell_type": "code",
      "metadata": {
        "id": "feVSDxT_BCtv",
        "colab_type": "code",
        "colab": {}
      },
      "source": [
        "%matplotlib inline\n",
        "import matplotlib\n",
        "import seaborn as sns # Seaborn은 Matplotlib를 기반으로 만든 데이터 시각화 라이브러리\n",
        "import matplotlib.pyplot as plt"
      ],
      "execution_count": 0,
      "outputs": []
    },
    {
      "cell_type": "code",
      "metadata": {
        "id": "UQ7mqrO8GPaN",
        "colab_type": "code",
        "colab": {}
      },
      "source": [
        "# 훈련 데이터와 테스트 데이터의 크기\n",
        "print(f\"{train_data.shape} {test_data.shape}\")"
      ],
      "execution_count": 0,
      "outputs": []
    },
    {
      "cell_type": "code",
      "metadata": {
        "id": "7-a_Z66cqiPK",
        "colab_type": "code",
        "colab": {}
      },
      "source": [
        "# 데이터의 축(label)들의 이름\n",
        "train_data.columns "
      ],
      "execution_count": 0,
      "outputs": []
    },
    {
      "cell_type": "code",
      "metadata": {
        "id": "sYJTwBCtsWuU",
        "colab_type": "code",
        "colab": {}
      },
      "source": [
        "test_data.columns"
      ],
      "execution_count": 0,
      "outputs": []
    },
    {
      "cell_type": "code",
      "metadata": {
        "id": "turZ7DwwwAcJ",
        "colab_type": "code",
        "colab": {}
      },
      "source": [
        "# 각 label의 데이터타입(int, float, object,,,,)\n",
        "train_data.dtypes"
      ],
      "execution_count": 0,
      "outputs": []
    },
    {
      "cell_type": "code",
      "metadata": {
        "id": "-DVtjUF2Xuwa",
        "colab_type": "code",
        "colab": {}
      },
      "source": [
        " # isna는 np.NaN인지 아닌지에 따라 같은 크기의 bool type 데이터를 리턴\n",
        " # sum은 NumPy와 동일하게 작동합니다. axis는 어느 방향으로 sum을 할지 결정(0은 행방향, 1은 열방향)\n",
        "train_data.isna().sum(axis=0)"
      ],
      "execution_count": 0,
      "outputs": []
    },
    {
      "cell_type": "code",
      "metadata": {
        "id": "BZDZqLKtYZ_I",
        "colab_type": "code",
        "colab": {}
      },
      "source": [
        "test_data.isna().sum(axis=0)"
      ],
      "execution_count": 0,
      "outputs": []
    },
    {
      "cell_type": "code",
      "metadata": {
        "id": "LrJAnnhCZx0l",
        "colab_type": "code",
        "colab": {}
      },
      "source": [
        "# 위의 전체적인 내용을 요약\n",
        "train_data.info()"
      ],
      "execution_count": 0,
      "outputs": []
    },
    {
      "cell_type": "code",
      "metadata": {
        "id": "LanE7-esZ2mu",
        "colab_type": "code",
        "colab": {}
      },
      "source": [
        "test_data.info()"
      ],
      "execution_count": 0,
      "outputs": []
    },
    {
      "cell_type": "code",
      "metadata": {
        "id": "2M1LgLrC0UI0",
        "colab_type": "code",
        "colab": {}
      },
      "source": [
        "# 훈련 데이터로부터 새로운 데이터 생성\n",
        "noage_train_data = train_data[train_data['Age'].isna()]\n",
        "havecabin_train_data  = train_data[~train_data['Cabin'].isna()]\n",
        "knowage_train_data = train_data[~train_data['Age'].isna()]"
      ],
      "execution_count": 0,
      "outputs": []
    },
    {
      "cell_type": "code",
      "metadata": {
        "id": "lc7ah0vNHrKr",
        "colab_type": "code",
        "colab": {}
      },
      "source": [
        "# 데이터의 간략한 통계적 수치를 보여줌\n",
        "train_data.describe()"
      ],
      "execution_count": 0,
      "outputs": []
    },
    {
      "cell_type": "code",
      "metadata": {
        "id": "4j1Naa4A6wfd",
        "colab_type": "code",
        "colab": {}
      },
      "source": [
        "havecabin_train_data.describe()"
      ],
      "execution_count": 0,
      "outputs": []
    },
    {
      "cell_type": "code",
      "metadata": {
        "id": "yuHkZ9phHlyx",
        "colab_type": "code",
        "colab": {}
      },
      "source": [
        "noage_train_data.describe()"
      ],
      "execution_count": 0,
      "outputs": []
    },
    {
      "cell_type": "code",
      "metadata": {
        "id": "8tpWuC7yKsAQ",
        "colab_type": "code",
        "colab": {}
      },
      "source": [
        "knowage_train_data.describe()"
      ],
      "execution_count": 0,
      "outputs": []
    },
    {
      "cell_type": "code",
      "metadata": {
        "id": "4biaZpWPbCuJ",
        "colab_type": "code",
        "colab": {}
      },
      "source": [
        "# describe method는 기본적으로 여러 datatype으로 이루어지거나 string or unicode를 예외처리하기 때문에\n",
        "# include 인자를 통해 특정 데이터 타입만 포함할 수 있습니다\n",
        "train_data.describe(include=object)"
      ],
      "execution_count": 0,
      "outputs": []
    },
    {
      "cell_type": "code",
      "metadata": {
        "id": "s0YcVQSd8aRn",
        "colab_type": "code",
        "colab": {}
      },
      "source": [
        "# 각 value가 몇번 나왔는지 알려줍니다\n",
        "# dropna를 False로 하면 NaN도 포함\n",
        "train_data['Embarked'].value_counts(dropna = False)"
      ],
      "execution_count": 0,
      "outputs": []
    },
    {
      "cell_type": "code",
      "metadata": {
        "id": "P3ZFcxa8x5CB",
        "colab_type": "code",
        "colab": {}
      },
      "source": [
        "train_data['Sex'].value_counts(dropna = False)"
      ],
      "execution_count": 0,
      "outputs": []
    },
    {
      "cell_type": "code",
      "metadata": {
        "id": "8ruypI89FdzK",
        "colab_type": "code",
        "colab": {}
      },
      "source": [
        "train_data['Pclass'].value_counts(dropna = False)"
      ],
      "execution_count": 0,
      "outputs": []
    },
    {
      "cell_type": "code",
      "metadata": {
        "id": "G9Y7Fq9a9FU1",
        "colab_type": "code",
        "colab": {}
      },
      "source": [
        "age_bins = [i*10 for i in range(9)]"
      ],
      "execution_count": 0,
      "outputs": []
    },
    {
      "cell_type": "code",
      "metadata": {
        "id": "yH7NYRN5nSid",
        "colab_type": "code",
        "colab": {}
      },
      "source": [
        "# bin으로 분할하여 카운트\n",
        "age_group_num = train_data['Age'].value_counts(bins = age_bins, sort = False)\n",
        "age_group_num"
      ],
      "execution_count": 0,
      "outputs": []
    },
    {
      "cell_type": "code",
      "metadata": {
        "id": "ZbMObE8VIoWo",
        "colab_type": "code",
        "colab": {}
      },
      "source": [
        "# 레이블로 group 해줌\n",
        "train_data.groupby('Sex')[['Survived']].mean()"
      ],
      "execution_count": 0,
      "outputs": []
    },
    {
      "cell_type": "code",
      "metadata": {
        "id": "HHkdr7C0LKNv",
        "colab_type": "code",
        "colab": {}
      },
      "source": [
        "# 레이블을 index(행)과 column(열)로 구분  \n",
        "train_data.pivot_table('Survived', index='Sex', columns='Pclass')"
      ],
      "execution_count": 0,
      "outputs": []
    },
    {
      "cell_type": "code",
      "metadata": {
        "id": "D0kfYRG7w1im",
        "colab_type": "code",
        "colab": {}
      },
      "source": [
        "figs, axes = plt.subplots(2, 2, figsize=(12, 13))\n",
        "\n",
        "axes[0][0].boxplot(knowage_train_data['Age'])\n",
        "axes[0][0].set_xlabel(\"Age\")\n",
        "\n",
        "axes[0][1].boxplot(train_data['Fare'])\n",
        "axes[0][1].set_xlabel(\"Fare\")\n",
        "\n",
        "axes[1][0].hist(knowage_train_data['Age'], bins=10)\n",
        "axes[1][0].set_xlabel(\"Age\")\n",
        "\n",
        "axes[1][1].hist(train_data['Fare'], bins=10)\n",
        "axes[1][1].set_xlabel(\"Fare\")\n",
        "\n",
        "plt.show()"
      ],
      "execution_count": 0,
      "outputs": []
    },
    {
      "cell_type": "code",
      "metadata": {
        "id": "GRHkMVSK9ym_",
        "colab_type": "code",
        "colab": {}
      },
      "source": [
        "fig, axes = plt.subplots(1, 3, figsize=(25, 9))\n",
        "\n",
        "sns.countplot(x='Sex', hue='Survived', data=train_data, ax=axes[0])\n",
        "axes[0].set_title('Survival by sex')\n",
        "axes[0].set_ylabel('')\n",
        "\n",
        "sns.countplot(x='Pclass', hue='Survived', data=train_data, ax=axes[1])\n",
        "axes[1].set_title('Survival by Pclass')\n",
        "axes[1].set_ylabel('')\n",
        "\n",
        "sns.countplot(x='Embarked', hue='Survived', data=train_data, ax=axes[2])\n",
        "axes[2].set_title('Survival by Embarked')\n",
        "axes[2].set_ylabel('')\n",
        "\n",
        "plt.show()"
      ],
      "execution_count": 0,
      "outputs": []
    },
    {
      "cell_type": "code",
      "metadata": {
        "id": "JV5PONUolCNP",
        "colab_type": "code",
        "colab": {}
      },
      "source": [
        "plt.pie(train_data.groupby('Sex')[['Survived']].sum(),\n",
        "        labels=['Female', 'Male'],\n",
        "        autopct='%1.1f%%')\n",
        "plt.title(\"Survival Ratio\")\n",
        "\n",
        "plt.show()"
      ],
      "execution_count": 0,
      "outputs": []
    },
    {
      "cell_type": "markdown",
      "metadata": {
        "id": "qY_lz8J6U4O9",
        "colab_type": "text"
      },
      "source": [
        "##Preprocessing"
      ]
    },
    {
      "cell_type": "code",
      "metadata": {
        "id": "OuNeQM5peo1s",
        "colab_type": "code",
        "colab": {}
      },
      "source": [
        "train_data"
      ],
      "execution_count": 0,
      "outputs": []
    },
    {
      "cell_type": "code",
      "metadata": {
        "id": "ZAjPxsaxxEwO",
        "colab_type": "code",
        "colab": {}
      },
      "source": [
        "test_data"
      ],
      "execution_count": 0,
      "outputs": []
    },
    {
      "cell_type": "markdown",
      "metadata": {
        "id": "n-TcGuwsCvzj",
        "colab_type": "text"
      },
      "source": [
        "###연습"
      ]
    },
    {
      "cell_type": "code",
      "metadata": {
        "id": "NT65ThbPC4iv",
        "colab_type": "code",
        "colab": {}
      },
      "source": [
        "idx = ['cobra', 'viper', 'sidewinder']\n",
        "\n",
        "df = pd.DataFrame([[1, 2], [4, 5], [7, 8]],\n",
        "                  index=idx,\n",
        "                  columns=['max_speed', 'shield'])"
      ],
      "execution_count": 0,
      "outputs": []
    },
    {
      "cell_type": "code",
      "metadata": {
        "id": "T_faiwdqS-8W",
        "colab_type": "code",
        "colab": {}
      },
      "source": [
        "df"
      ],
      "execution_count": 0,
      "outputs": []
    },
    {
      "cell_type": "code",
      "metadata": {
        "id": "NAGacKoniw1J",
        "colab_type": "code",
        "colab": {}
      },
      "source": [
        "lethal_score = pd.Series(['six', 'four', 'two'], index=idx)"
      ],
      "execution_count": 0,
      "outputs": []
    },
    {
      "cell_type": "code",
      "metadata": {
        "id": "FAh8Ilihjjin",
        "colab_type": "code",
        "colab": {}
      },
      "source": [
        "lethal_score"
      ],
      "execution_count": 0,
      "outputs": []
    },
    {
      "cell_type": "code",
      "metadata": {
        "id": "DOgiksuUkmRW",
        "colab_type": "code",
        "colab": {}
      },
      "source": [
        "# index와 column의 이름과 그 축을 넣으면 데이터행이나 열을 떨굽니다\n",
        "df.drop(['max_speed'], axis=1)"
      ],
      "execution_count": 0,
      "outputs": []
    },
    {
      "cell_type": "code",
      "metadata": {
        "id": "KunxHm5sk75B",
        "colab_type": "code",
        "colab": {}
      },
      "source": [
        "df.drop(['cobra'], axis=0)"
      ],
      "execution_count": 0,
      "outputs": []
    },
    {
      "cell_type": "code",
      "metadata": {
        "id": "j3O0fz37k4jU",
        "colab_type": "code",
        "colab": {}
      },
      "source": [
        "df"
      ],
      "execution_count": 0,
      "outputs": []
    },
    {
      "cell_type": "code",
      "metadata": {
        "id": "RUpwLsYvqLmH",
        "colab_type": "code",
        "colab": {}
      },
      "source": [
        "# dataframe에 새로운 열을 추가\n",
        "df['lethal'] = lethal_score"
      ],
      "execution_count": 0,
      "outputs": []
    },
    {
      "cell_type": "code",
      "metadata": {
        "id": "l9xA2jGelJLm",
        "colab_type": "code",
        "colab": {}
      },
      "source": [
        "df['empty'] = pd.Series([np.NaN, np.NaN, np.NaN], index=idx)"
      ],
      "execution_count": 0,
      "outputs": []
    },
    {
      "cell_type": "code",
      "metadata": {
        "id": "QrEonCkWlbAC",
        "colab_type": "code",
        "colab": {}
      },
      "source": [
        "df"
      ],
      "execution_count": 0,
      "outputs": []
    },
    {
      "cell_type": "code",
      "metadata": {
        "id": "ztJw5kdumYxA",
        "colab_type": "code",
        "colab": {}
      },
      "source": [
        "# p1을 p2로 바꾼다\n",
        "df['empty'].replace(np.NaN, 0) "
      ],
      "execution_count": 0,
      "outputs": []
    },
    {
      "cell_type": "code",
      "metadata": {
        "id": "Gx6i1bJhnCLE",
        "colab_type": "code",
        "colab": {}
      },
      "source": [
        "# NaN을 parameter값으로 바꾼다\n",
        "df['empty'].fillna(0) "
      ],
      "execution_count": 0,
      "outputs": []
    },
    {
      "cell_type": "code",
      "metadata": {
        "id": "xsLp1GX4oowv",
        "colab_type": "code",
        "colab": {}
      },
      "source": [
        "df"
      ],
      "execution_count": 0,
      "outputs": []
    },
    {
      "cell_type": "code",
      "metadata": {
        "id": "_5QUCfhmmtmh",
        "colab_type": "code",
        "colab": {}
      },
      "source": [
        "df['empty'] = df['empty'].replace(np.NaN, 0).astype(int) # or df['empty'].replace(np.NaN, int(0))"
      ],
      "execution_count": 0,
      "outputs": []
    },
    {
      "cell_type": "code",
      "metadata": {
        "id": "fRSSTwNqTCVn",
        "colab_type": "code",
        "colab": {}
      },
      "source": [
        "df"
      ],
      "execution_count": 0,
      "outputs": []
    },
    {
      "cell_type": "code",
      "metadata": {
        "id": "wDT5hwarnIoZ",
        "colab_type": "code",
        "colab": {}
      },
      "source": [
        "# replace와 유사하게 dic의 key에 해당하는 값을 value로 바꿈\n",
        "word_mapping = {'two': 2, 'four': 4, 'six': 6}\n",
        "\n",
        "df['lethal'] = df['lethal'].map(word_mapping)"
      ],
      "execution_count": 0,
      "outputs": []
    },
    {
      "cell_type": "code",
      "metadata": {
        "id": "kpMcj7yeoCDy",
        "colab_type": "code",
        "colab": {}
      },
      "source": [
        "df"
      ],
      "execution_count": 0,
      "outputs": []
    },
    {
      "cell_type": "code",
      "metadata": {
        "id": "i1U4DS8t0mNY",
        "colab_type": "code",
        "colab": {}
      },
      "source": [
        "# lambda의 형식\n",
        "# lambda (params): operation(params)\n",
        "(lambda x: pd.Series(x))([1,2,3])"
      ],
      "execution_count": 0,
      "outputs": []
    },
    {
      "cell_type": "code",
      "metadata": {
        "id": "bdEcSypT1LvN",
        "colab_type": "code",
        "colab": {}
      },
      "source": [
        "to_series = (lambda x: pd.Series(x))\n",
        "\n",
        "to_series([1,2,3])"
      ],
      "execution_count": 0,
      "outputs": []
    },
    {
      "cell_type": "code",
      "metadata": {
        "id": "AdYRLoWK1v34",
        "colab_type": "code",
        "colab": {}
      },
      "source": [
        "# apply에 인자로 함수를 넣으면 모든 데이터에 그 함수를 적용한 결과를 리턴\n",
        "df['shield'] = df['shield'].apply(lambda x: x * 2)"
      ],
      "execution_count": 0,
      "outputs": []
    },
    {
      "cell_type": "code",
      "metadata": {
        "id": "onOqIkALTTlu",
        "colab_type": "code",
        "colab": {}
      },
      "source": [
        "df"
      ],
      "execution_count": 0,
      "outputs": []
    },
    {
      "cell_type": "markdown",
      "metadata": {
        "id": "734FiuuqCQGy",
        "colab_type": "text"
      },
      "source": [
        "###과제"
      ]
    },
    {
      "cell_type": "code",
      "metadata": {
        "id": "Hnm9zqqOTeSC",
        "colab_type": "code",
        "colab": {}
      },
      "source": [
        "# 불필요한 데이터 삭제\n",
        "# 테스트 데이터의 PassengerId는 추후 예측 데이터를 제출할때 필요하니 유지\n"
      ],
      "execution_count": 0,
      "outputs": []
    },
    {
      "cell_type": "code",
      "metadata": {
        "id": "790nGZK2yQx-",
        "colab_type": "code",
        "colab": {}
      },
      "source": [
        "# 데이터의 분포나 특성을 확인하고 NaN 값을 변환한다.\n",
        "# 훈련데이터는 Age, Cabin, Embarked에\n",
        "# 테스트데이터는 Age, Fare, Cabin에 NaN 값이 있다.\n"
      ],
      "execution_count": 0,
      "outputs": []
    },
    {
      "cell_type": "code",
      "metadata": {
        "id": "zdOdkB7ZghM6",
        "colab_type": "code",
        "colab": {}
      },
      "source": [
        "# Sex, Embarked 같은 categorical data를 object(string)에서 int로 변환한다.\n"
      ],
      "execution_count": 0,
      "outputs": []
    },
    {
      "cell_type": "code",
      "metadata": {
        "id": "5uaS6GIn-wQu",
        "colab_type": "code",
        "colab": {}
      },
      "source": [
        "# Fare, Age 같은 float도 int로 바꾼다.\n",
        "# hint: lower_bound < x <= upper_bound\n"
      ],
      "execution_count": 0,
      "outputs": []
    },
    {
      "cell_type": "code",
      "metadata": {
        "id": "X_Croa4_tyZ8",
        "colab_type": "code",
        "colab": {}
      },
      "source": [
        "# Name, Cabin 같은 object(string) 데이터를 사용하는 것이 좋다고 판단되면 int로 바꾼다.\n",
        "# 이름의 경우 간단한 str.split() 파이썬 함수를 사용하는걸 추천합니다.\n",
        "# hint: Mr., Mrs, Ms., Captain, ...\n"
      ],
      "execution_count": 0,
      "outputs": []
    },
    {
      "cell_type": "code",
      "metadata": {
        "id": "CyHz6CrccS4s",
        "colab_type": "code",
        "colab": {}
      },
      "source": [
        "# pd.to_csv() 함수를 사용하여 파일을 저장\n"
      ],
      "execution_count": 0,
      "outputs": []
    }
  ]
}