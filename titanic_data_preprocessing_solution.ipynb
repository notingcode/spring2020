{
  "nbformat": 4,
  "nbformat_minor": 0,
  "metadata": {
    "colab": {
      "name": "titanic_data_preprocessing_solution.ipynb",
      "provenance": [],
      "collapsed_sections": [
        "-urOk0dz-Ny_",
        "GSiRAw_rJ9Eg",
        "cGD_QKV8VBB8",
        "qY_lz8J6U4O9"
      ],
      "include_colab_link": true
    },
    "kernelspec": {
      "name": "python3",
      "display_name": "Python 3"
    }
  },
  "cells": [
    {
      "cell_type": "markdown",
      "metadata": {
        "id": "view-in-github",
        "colab_type": "text"
      },
      "source": [
        "<a href=\"https://colab.research.google.com/github/notingcode/spring2020/blob/master/titanic_data_preprocessing_solution.ipynb\" target=\"_parent\"><img src=\"https://colab.research.google.com/assets/colab-badge.svg\" alt=\"Open In Colab\"/></a>"
      ]
    },
    {
      "cell_type": "markdown",
      "metadata": {
        "id": "4Gl6NBZm9mkZ",
        "colab_type": "text"
      },
      "source": [
        "#Analyzing and Preprocessing Data with Matplotlib, Pandas, and NumPy"
      ]
    },
    {
      "cell_type": "markdown",
      "metadata": {
        "id": "-urOk0dz-Ny_",
        "colab_type": "text"
      },
      "source": [
        "##Upload Kaggle JSON and Download Data"
      ]
    },
    {
      "cell_type": "code",
      "metadata": {
        "id": "N1jS2H9SXkQ8",
        "colab_type": "code",
        "colab": {}
      },
      "source": [
        "from google.colab import files\n",
        "files.upload()"
      ],
      "execution_count": 0,
      "outputs": []
    },
    {
      "cell_type": "code",
      "metadata": {
        "id": "n4b1ZljYQof4",
        "colab_type": "code",
        "colab": {}
      },
      "source": [
        "!mkdir ~/.kaggle\n",
        "!cp kaggle.json ~/.kaggle/\n",
        "!chmod 600 ~/.kaggle/kaggle.json"
      ],
      "execution_count": 0,
      "outputs": []
    },
    {
      "cell_type": "code",
      "metadata": {
        "id": "EC3WJ4zbWd_0",
        "colab_type": "code",
        "colab": {}
      },
      "source": [
        "!kaggle competitions list"
      ],
      "execution_count": 0,
      "outputs": []
    },
    {
      "cell_type": "code",
      "metadata": {
        "id": "YextPWonW05d",
        "colab_type": "code",
        "colab": {}
      },
      "source": [
        "!kaggle competitions download -c titanic"
      ],
      "execution_count": 0,
      "outputs": []
    },
    {
      "cell_type": "markdown",
      "metadata": {
        "id": "GSiRAw_rJ9Eg",
        "colab_type": "text"
      },
      "source": [
        "##Load and Manipulate Data with Pandas"
      ]
    },
    {
      "cell_type": "code",
      "metadata": {
        "id": "Kg9Nj3EbumA6",
        "colab_type": "code",
        "colab": {}
      },
      "source": [
        "import pandas as pd\n",
        "import numpy as np"
      ],
      "execution_count": 0,
      "outputs": []
    },
    {
      "cell_type": "code",
      "metadata": {
        "id": "kDTeGrV2wKqz",
        "colab_type": "code",
        "colab": {}
      },
      "source": [
        "train_data = pd.read_csv('train.csv')\n",
        "test_data = pd.read_csv('test.csv')"
      ],
      "execution_count": 0,
      "outputs": []
    },
    {
      "cell_type": "code",
      "metadata": {
        "id": "BhCoInfIYd95",
        "colab_type": "code",
        "colab": {}
      },
      "source": [
        "train_data"
      ],
      "execution_count": 0,
      "outputs": []
    },
    {
      "cell_type": "code",
      "metadata": {
        "id": "8F0sog-TYgQd",
        "colab_type": "code",
        "colab": {}
      },
      "source": [
        "test_data"
      ],
      "execution_count": 0,
      "outputs": []
    },
    {
      "cell_type": "markdown",
      "metadata": {
        "id": "cGD_QKV8VBB8",
        "colab_type": "text"
      },
      "source": [
        "##Analyze Data"
      ]
    },
    {
      "cell_type": "markdown",
      "metadata": {
        "id": "wSCddxCt_qi4",
        "colab_type": "text"
      },
      "source": [
        "Feature(Variable)|Definition|Key\n",
        ":-|:-|:-\n",
        "survival|생존|0 = No, 1 = Yes\n",
        "pclass|티켓 등급|1 = 1st, 2 = 2nd, 3 = 3rd\n",
        "sex|성별|\n",
        "Age|나이|\n",
        "sibsp|함께 탑승중인 형제자매와 배우자#|\n",
        "parch|함께 탑승중인 부모와 자녀#|\n",
        "ticket|티켓 번호|\n",
        "fare|탑승 요금|\n",
        "cabin|객실 번호|\n",
        "embarked|탑승한 항구|C = Cherbourg, Q = Queenstown, S = Southampton"
      ]
    },
    {
      "cell_type": "code",
      "metadata": {
        "id": "feVSDxT_BCtv",
        "colab_type": "code",
        "colab": {}
      },
      "source": [
        "%matplotlib inline\n",
        "import matplotlib\n",
        "import seaborn as sns\n",
        "import matplotlib.pyplot as plt"
      ],
      "execution_count": 0,
      "outputs": []
    },
    {
      "cell_type": "code",
      "metadata": {
        "id": "UQ7mqrO8GPaN",
        "colab_type": "code",
        "colab": {}
      },
      "source": [
        "print(f\"{train_data.shape} {test_data.shape}\")"
      ],
      "execution_count": 0,
      "outputs": []
    },
    {
      "cell_type": "code",
      "metadata": {
        "id": "7-a_Z66cqiPK",
        "colab_type": "code",
        "colab": {}
      },
      "source": [
        "train_data.columns"
      ],
      "execution_count": 0,
      "outputs": []
    },
    {
      "cell_type": "code",
      "metadata": {
        "id": "sYJTwBCtsWuU",
        "colab_type": "code",
        "colab": {}
      },
      "source": [
        "test_data.columns"
      ],
      "execution_count": 0,
      "outputs": []
    },
    {
      "cell_type": "code",
      "metadata": {
        "id": "turZ7DwwwAcJ",
        "colab_type": "code",
        "colab": {}
      },
      "source": [
        "train_data.dtypes"
      ],
      "execution_count": 0,
      "outputs": []
    },
    {
      "cell_type": "code",
      "metadata": {
        "id": "-DVtjUF2Xuwa",
        "colab_type": "code",
        "colab": {}
      },
      "source": [
        "train_data.isna().sum(axis=0)"
      ],
      "execution_count": 0,
      "outputs": []
    },
    {
      "cell_type": "code",
      "metadata": {
        "id": "BZDZqLKtYZ_I",
        "colab_type": "code",
        "colab": {}
      },
      "source": [
        "test_data.isna().sum(axis=0)"
      ],
      "execution_count": 0,
      "outputs": []
    },
    {
      "cell_type": "code",
      "metadata": {
        "id": "LrJAnnhCZx0l",
        "colab_type": "code",
        "colab": {}
      },
      "source": [
        "train_data.info()"
      ],
      "execution_count": 0,
      "outputs": []
    },
    {
      "cell_type": "code",
      "metadata": {
        "id": "LanE7-esZ2mu",
        "colab_type": "code",
        "colab": {}
      },
      "source": [
        "test_data.info()"
      ],
      "execution_count": 0,
      "outputs": []
    },
    {
      "cell_type": "code",
      "metadata": {
        "id": "2M1LgLrC0UI0",
        "colab_type": "code",
        "colab": {}
      },
      "source": [
        "noage_train_data = train_data[train_data['Age'].isna()]\n",
        "havecabin_train_data  = train_data[~train_data['Cabin'].isna()]\n",
        "knowage_train_data = train_data[~train_data['Age'].isna()]"
      ],
      "execution_count": 0,
      "outputs": []
    },
    {
      "cell_type": "code",
      "metadata": {
        "id": "lc7ah0vNHrKr",
        "colab_type": "code",
        "colab": {}
      },
      "source": [
        "train_data.describe()"
      ],
      "execution_count": 0,
      "outputs": []
    },
    {
      "cell_type": "code",
      "metadata": {
        "id": "4j1Naa4A6wfd",
        "colab_type": "code",
        "colab": {}
      },
      "source": [
        "havecabin_train_data.describe()"
      ],
      "execution_count": 0,
      "outputs": []
    },
    {
      "cell_type": "code",
      "metadata": {
        "id": "yuHkZ9phHlyx",
        "colab_type": "code",
        "colab": {}
      },
      "source": [
        "noage_train_data.describe()"
      ],
      "execution_count": 0,
      "outputs": []
    },
    {
      "cell_type": "code",
      "metadata": {
        "id": "8tpWuC7yKsAQ",
        "colab_type": "code",
        "colab": {}
      },
      "source": [
        "knowage_train_data.describe()"
      ],
      "execution_count": 0,
      "outputs": []
    },
    {
      "cell_type": "code",
      "metadata": {
        "id": "4biaZpWPbCuJ",
        "colab_type": "code",
        "colab": {}
      },
      "source": [
        "train_data.describe(include=object)"
      ],
      "execution_count": 0,
      "outputs": []
    },
    {
      "cell_type": "code",
      "metadata": {
        "id": "s0YcVQSd8aRn",
        "colab_type": "code",
        "colab": {}
      },
      "source": [
        "train_data['Embarked'].value_counts(dropna = False)"
      ],
      "execution_count": 0,
      "outputs": []
    },
    {
      "cell_type": "code",
      "metadata": {
        "id": "P3ZFcxa8x5CB",
        "colab_type": "code",
        "colab": {}
      },
      "source": [
        "train_data['Sex'].value_counts(dropna = False)"
      ],
      "execution_count": 0,
      "outputs": []
    },
    {
      "cell_type": "code",
      "metadata": {
        "id": "8ruypI89FdzK",
        "colab_type": "code",
        "colab": {}
      },
      "source": [
        "train_data['Pclass'].value_counts(dropna = False)"
      ],
      "execution_count": 0,
      "outputs": []
    },
    {
      "cell_type": "code",
      "metadata": {
        "id": "iaOy0Ybd6BQF",
        "colab_type": "code",
        "colab": {}
      },
      "source": [
        "age_bins = [i*10 for i in range(9)]"
      ],
      "execution_count": 0,
      "outputs": []
    },
    {
      "cell_type": "code",
      "metadata": {
        "id": "G9Y7Fq9a9FU1",
        "colab_type": "code",
        "colab": {}
      },
      "source": [
        "age_group_num = train_data['Age'].value_counts(bins = age_bins, sort = False)\n",
        "age_group_num"
      ],
      "execution_count": 0,
      "outputs": []
    },
    {
      "cell_type": "code",
      "metadata": {
        "id": "ZbMObE8VIoWo",
        "colab_type": "code",
        "colab": {}
      },
      "source": [
        "train_data.groupby('Sex')[['Survived']].mean()"
      ],
      "execution_count": 0,
      "outputs": []
    },
    {
      "cell_type": "code",
      "metadata": {
        "id": "HHkdr7C0LKNv",
        "colab_type": "code",
        "colab": {}
      },
      "source": [
        "train_data.pivot_table('Survived', index='Sex', columns='Pclass')"
      ],
      "execution_count": 0,
      "outputs": []
    },
    {
      "cell_type": "code",
      "metadata": {
        "id": "D0kfYRG7w1im",
        "colab_type": "code",
        "colab": {}
      },
      "source": [
        "figs, axes = plt.subplots(2, 2, figsize=(12, 13))\n",
        "\n",
        "axes[0][0].boxplot(knowage_train_data['Age'])\n",
        "axes[0][0].set_xlabel(\"Age\")\n",
        "\n",
        "axes[0][1].boxplot(train_data['Fare'])\n",
        "axes[0][1].set_xlabel(\"Fare\")\n",
        "\n",
        "axes[1][0].hist(knowage_train_data['Age'], bins=10)\n",
        "axes[1][0].set_xlabel(\"Age\")\n",
        "\n",
        "axes[1][1].hist(train_data['Fare'], bins=10)\n",
        "axes[1][1].set_xlabel(\"Fare\")\n",
        "\n",
        "plt.show()"
      ],
      "execution_count": 0,
      "outputs": []
    },
    {
      "cell_type": "code",
      "metadata": {
        "id": "GRHkMVSK9ym_",
        "colab_type": "code",
        "colab": {}
      },
      "source": [
        "fig, axes = plt.subplots(1, 3, figsize=(25, 9))\n",
        "\n",
        "sns.countplot(x='Sex', hue='Survived', data=train_data, ax=axes[0])\n",
        "axes[0].set_title('Survival by sex')\n",
        "axes[0].set_ylabel('')\n",
        "\n",
        "sns.countplot(x='Pclass', hue='Survived', data=train_data, ax=axes[1])\n",
        "axes[1].set_title('Survival by Pclass')\n",
        "axes[1].set_ylabel('')\n",
        "\n",
        "sns.countplot(x='Embarked', hue='Survived', data=train_data, ax=axes[2])\n",
        "axes[2].set_title('Survival by Embarked')\n",
        "axes[2].set_ylabel('')\n",
        "\n",
        "plt.show()"
      ],
      "execution_count": 0,
      "outputs": []
    },
    {
      "cell_type": "code",
      "metadata": {
        "id": "JV5PONUolCNP",
        "colab_type": "code",
        "colab": {}
      },
      "source": [
        "plt.pie(train_data.groupby('Sex')[['Survived']].sum(),\n",
        "        labels=['Female', 'Male'],\n",
        "        autopct='%1.1f%%')\n",
        "plt.title(\"Survival Ratio\")\n",
        "\n",
        "plt.show()"
      ],
      "execution_count": 0,
      "outputs": []
    },
    {
      "cell_type": "markdown",
      "metadata": {
        "id": "qY_lz8J6U4O9",
        "colab_type": "text"
      },
      "source": [
        "##Preprocessing"
      ]
    },
    {
      "cell_type": "code",
      "metadata": {
        "id": "Hnm9zqqOTeSC",
        "colab_type": "code",
        "colab": {}
      },
      "source": [
        "train_data = train_data.drop(['PassengerId', 'Ticket'], axis=1)\n",
        "train_data"
      ],
      "execution_count": 0,
      "outputs": []
    },
    {
      "cell_type": "code",
      "metadata": {
        "id": "YuupblLM536l",
        "colab_type": "code",
        "colab": {}
      },
      "source": [
        "sub_example = pd.read_csv('gender_submission.csv')\n",
        "sub_example.head()"
      ],
      "execution_count": 0,
      "outputs": []
    },
    {
      "cell_type": "code",
      "metadata": {
        "id": "k1H3nK-oODN0",
        "colab_type": "code",
        "colab": {}
      },
      "source": [
        "test_data = test_data.drop(['Ticket'], axis=1)"
      ],
      "execution_count": 0,
      "outputs": []
    },
    {
      "cell_type": "code",
      "metadata": {
        "id": "_ROD4URt2Lzk",
        "colab_type": "code",
        "colab": {}
      },
      "source": [
        "train_data.dtypes"
      ],
      "execution_count": 0,
      "outputs": []
    },
    {
      "cell_type": "code",
      "metadata": {
        "id": "Lv9zpEfvC5Of",
        "colab_type": "code",
        "colab": {}
      },
      "source": [
        "train_data['Family'] = train_data['SibSp'] + train_data['Parch']\n",
        "test_data['Family'] = test_data['SibSp'] + test_data['Parch']"
      ],
      "execution_count": 0,
      "outputs": []
    },
    {
      "cell_type": "code",
      "metadata": {
        "id": "eLfgIDi41Ji0",
        "colab_type": "code",
        "colab": {}
      },
      "source": [
        "train_data.groupby('Family')[['Survived']].mean()"
      ],
      "execution_count": 0,
      "outputs": []
    },
    {
      "cell_type": "code",
      "metadata": {
        "id": "790nGZK2yQx-",
        "colab_type": "code",
        "colab": {}
      },
      "source": [
        "# train_data['Age'].fillna(train_data['Age'].mean(), inplace=True)\n",
        "# test_data['Age'].fillna(train_data['Age'].mean(), inplace=True)"
      ],
      "execution_count": 0,
      "outputs": []
    },
    {
      "cell_type": "code",
      "metadata": {
        "id": "GAP8mzfGTwYh",
        "colab_type": "code",
        "colab": {}
      },
      "source": [
        "def fill_age(df):\n",
        "  age_avg = train_data['Age'].mean()\n",
        "  age_std = train_data['Age'].std()\n",
        "  age_nan_count = df['Age'].isna().sum()\n",
        "  age_nan_random_list = np.random.randint(age_avg - age_std, age_avg + age_std, size=age_nan_count)\n",
        "  df['Age'][df['Age'].isna()] = age_nan_random_list\n",
        "  df['Age'] = df['Age'].astype(int)"
      ],
      "execution_count": 0,
      "outputs": []
    },
    {
      "cell_type": "code",
      "metadata": {
        "id": "9oigWAWvUjOm",
        "colab_type": "code",
        "colab": {}
      },
      "source": [
        "fill_age(train_data)\n",
        "fill_age(test_data)"
      ],
      "execution_count": 0,
      "outputs": []
    },
    {
      "cell_type": "code",
      "metadata": {
        "id": "_6oq3qi-UfM2",
        "colab_type": "code",
        "colab": {}
      },
      "source": [
        "train_data.isna().sum(axis=0)"
      ],
      "execution_count": 0,
      "outputs": []
    },
    {
      "cell_type": "code",
      "metadata": {
        "id": "0g2Eh521WiuX",
        "colab_type": "code",
        "colab": {}
      },
      "source": [
        "test_data.isna().sum(axis=0)"
      ],
      "execution_count": 0,
      "outputs": []
    },
    {
      "cell_type": "code",
      "metadata": {
        "id": "zdOdkB7ZghM6",
        "colab_type": "code",
        "colab": {}
      },
      "source": [
        "train_data[\"Embarked\"].fillna('S', inplace=True)\n",
        "test_data['Fare'].fillna(train_data['Fare'].median(), inplace=True)"
      ],
      "execution_count": 0,
      "outputs": []
    },
    {
      "cell_type": "code",
      "metadata": {
        "id": "15oj1pvZg_xi",
        "colab_type": "code",
        "colab": {}
      },
      "source": [
        "train_data['Sex'] = train_data['Sex'].map({'male': 0, 'female': 1}).astype(int)\n",
        "test_data['Sex'] = test_data['Sex'].map({'male': 0, 'female': 1}).astype(int)"
      ],
      "execution_count": 0,
      "outputs": []
    },
    {
      "cell_type": "code",
      "metadata": {
        "id": "N08CoJuZ5NQ4",
        "colab_type": "code",
        "colab": {}
      },
      "source": [
        "train_data['Embarked'] = train_data['Embarked'].replace('S', int(0))\n",
        "train_data['Embarked'] = train_data['Embarked'].replace('C', int(1))\n",
        "train_data['Embarked'] = train_data['Embarked'].replace('Q', int(2))\n",
        "\n",
        "embarked_mapping = {'S': 0, 'C': 1, 'Q': 2}\n",
        "test_data['Embarked'] = test_data['Embarked'].map(embarked_mapping).astype(int)"
      ],
      "execution_count": 0,
      "outputs": []
    },
    {
      "cell_type": "code",
      "metadata": {
        "id": "veH973Dk0R8n",
        "colab_type": "code",
        "colab": {}
      },
      "source": [
        "# train_data['Age'] = train_data['Age'].astype(int)\n",
        "# train_data['Fare'] = train_data['Fare'].astype(int)"
      ],
      "execution_count": 0,
      "outputs": []
    },
    {
      "cell_type": "code",
      "metadata": {
        "id": "Kh1vmXnSCwFo",
        "colab_type": "code",
        "colab": {}
      },
      "source": [
        "def bin_fare(df):  \n",
        "  df.loc[df['Fare'] <= 7.91, 'Fare'] = 0\n",
        "  df.loc[(df['Fare'] > 7.91) & (df['Fare'] <= 14.454), 'Fare'] = 1\n",
        "  df.loc[(df['Fare'] > 14.454) & (df['Fare'] <= 31), 'Fare'] = 2\n",
        "  df.loc[df['Fare'] > 31, 'Fare'] =  3\n",
        "\n",
        "  df['Fare'] = df['Fare'].astype(int)"
      ],
      "execution_count": 0,
      "outputs": []
    },
    {
      "cell_type": "code",
      "metadata": {
        "id": "1s4rHhmTUEB1",
        "colab_type": "code",
        "colab": {}
      },
      "source": [
        "def bin_age(df):\n",
        "  df.loc[df['Age'] <= 16, 'Age'] = 0\n",
        "  df.loc[(df['Age'] > 16) & (df['Age'] <= 32), 'Age'] = 1\n",
        "  df.loc[(df['Age'] > 32) & (df['Age'] <= 48), 'Age'] = 2\n",
        "  df.loc[(df['Age'] > 48) & (df['Age'] <= 64), 'Age'] = 3\n",
        "  df.loc[df['Age'] > 64, 'Age'] = 4\n",
        "\n",
        "  df['Age'] = df['Age'].astype(int)"
      ],
      "execution_count": 0,
      "outputs": []
    },
    {
      "cell_type": "code",
      "metadata": {
        "id": "iYdeltLgXbfc",
        "colab_type": "code",
        "colab": {}
      },
      "source": [
        "bin_fare(train_data)\n",
        "bin_fare(test_data)\n",
        "bin_age(train_data)\n",
        "bin_age(test_data)"
      ],
      "execution_count": 0,
      "outputs": []
    },
    {
      "cell_type": "code",
      "metadata": {
        "id": "k-c6oZjDg-X7",
        "colab_type": "code",
        "colab": {}
      },
      "source": [
        "train_data"
      ],
      "execution_count": 0,
      "outputs": []
    },
    {
      "cell_type": "code",
      "metadata": {
        "id": "DrET-sI1S_zC",
        "colab_type": "code",
        "colab": {}
      },
      "source": [
        "test_data"
      ],
      "execution_count": 0,
      "outputs": []
    },
    {
      "cell_type": "code",
      "metadata": {
        "id": "74rLI-k-DJpo",
        "colab_type": "code",
        "colab": {}
      },
      "source": [
        "type(np.NaN)"
      ],
      "execution_count": 0,
      "outputs": []
    },
    {
      "cell_type": "code",
      "metadata": {
        "id": "w0-yfo6iySMj",
        "colab_type": "code",
        "colab": {}
      },
      "source": [
        "train_data['Has_Cabin'] = train_data['Cabin'].apply(lambda x: 0 if type(x) == float else 1)\n",
        "test_data['Has_Cabin'] = test_data['Cabin'].apply(lambda x: 0 if type(x) == float else 1)"
      ],
      "execution_count": 0,
      "outputs": []
    },
    {
      "cell_type": "code",
      "metadata": {
        "id": "Zj6vGYy8-Pb4",
        "colab_type": "code",
        "colab": {}
      },
      "source": [
        "def get_title(name):\n",
        "  for substring in name.split():\n",
        "    if '.' in substring:\n",
        "      return substring[:-1]\n",
        "\n",
        "train_data['Title'] = train_data['Name'].apply(lambda x: get_title(x))\n",
        "test_data['Title'] = test_data['Name'].apply(lambda x: get_title(x))\n",
        "\n",
        "train_data['Title'].value_counts(dropna=False)"
      ],
      "execution_count": 0,
      "outputs": []
    },
    {
      "cell_type": "code",
      "metadata": {
        "id": "W_MIlHg8Y6kR",
        "colab_type": "code",
        "colab": {}
      },
      "source": [
        "test_data['Title'].value_counts(dropna=False)"
      ],
      "execution_count": 0,
      "outputs": []
    },
    {
      "cell_type": "code",
      "metadata": {
        "id": "BpKugCMHBXFU",
        "colab_type": "code",
        "colab": {}
      },
      "source": [
        "def map_title(df):\n",
        "  df['Title'] = df['Title'].replace(['Lady', 'Countess','Capt', 'Col','Don', 'Dr', 'Major', 'Rev', 'Sir', 'Jonkheer', 'Dona'], 'Rare')\n",
        "  df['Title'] = df['Title'].replace('Mlle', 'Miss')\n",
        "  df['Title'] = df['Title'].replace('Ms', 'Miss')\n",
        "  df['Title'] = df['Title'].replace('Mme', 'Mrs')\n",
        "  title_mapping = {\"Mr\": 1, \"Miss\": 2, \"Mrs\": 3, \"Master\": 4, \"Rare\": 5}\n",
        "  df['Title'] = df['Title'].map(title_mapping)"
      ],
      "execution_count": 0,
      "outputs": []
    },
    {
      "cell_type": "code",
      "metadata": {
        "id": "7ax057DIWX99",
        "colab_type": "code",
        "colab": {}
      },
      "source": [
        "map_title(train_data)\n",
        "map_title(test_data)"
      ],
      "execution_count": 0,
      "outputs": []
    },
    {
      "cell_type": "code",
      "metadata": {
        "id": "F32oJ64nICLL",
        "colab_type": "code",
        "colab": {}
      },
      "source": [
        "train_data.drop(['Name', 'Cabin', 'SibSp', 'Parch'], axis=1, inplace = True)\n",
        "test_data.drop(['Name', 'Cabin', 'SibSp', 'Parch'], axis=1, inplace = True)"
      ],
      "execution_count": 0,
      "outputs": []
    },
    {
      "cell_type": "code",
      "metadata": {
        "id": "QQ5LQB780chl",
        "colab_type": "code",
        "colab": {}
      },
      "source": [
        "train_data.info()"
      ],
      "execution_count": 0,
      "outputs": []
    },
    {
      "cell_type": "code",
      "metadata": {
        "id": "BszXYdiRWhKH",
        "colab_type": "code",
        "colab": {}
      },
      "source": [
        "test_data.info()"
      ],
      "execution_count": 0,
      "outputs": []
    },
    {
      "cell_type": "code",
      "metadata": {
        "id": "XklLjCswEJG9",
        "colab_type": "code",
        "colab": {}
      },
      "source": [
        "train_data"
      ],
      "execution_count": 0,
      "outputs": []
    },
    {
      "cell_type": "code",
      "metadata": {
        "id": "bkguGTdrQqrl",
        "colab_type": "code",
        "colab": {}
      },
      "source": [
        "test_data"
      ],
      "execution_count": 0,
      "outputs": []
    },
    {
      "cell_type": "code",
      "metadata": {
        "id": "CyHz6CrccS4s",
        "colab_type": "code",
        "colab": {}
      },
      "source": [
        "train_data.to_csv('train_processed.csv')\n",
        "test_data.to_csv('test_processed.csv')"
      ],
      "execution_count": 0,
      "outputs": []
    },
    {
      "cell_type": "code",
      "metadata": {
        "id": "53SZl34mG1nH",
        "colab_type": "code",
        "colab": {}
      },
      "source": [
        ""
      ],
      "execution_count": 0,
      "outputs": []
    }
  ]
}